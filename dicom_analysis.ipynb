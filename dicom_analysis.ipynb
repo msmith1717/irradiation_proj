{
 "cells": [
  {
   "cell_type": "code",
   "execution_count": 1,
   "metadata": {},
   "outputs": [
    {
     "name": "stdout",
     "output_type": "stream",
     "text": [
      "Dicom data:\n",
      "(0008, 0005) Specific Character Set              CS: 'ISO_IR 100'\n",
      "(0008, 0012) Instance Creation Date              DA: '20171214'\n",
      "(0008, 0013) Instance Creation Time              TM: '130459'\n",
      "(0008, 0016) SOP Class UID                       UI: RT Dose Storage\n",
      "(0008, 0018) SOP Instance UID                    UI: 1.2.752.243.1.1.20191212115003150.1740.20852\n",
      "(0008, 0020) Study Date                          DA: '20171211'\n",
      "(0008, 0030) Study Time                          TM: '174343'\n",
      "(0008, 0050) Accession Number                    SH: ''\n",
      "(0008, 0060) Modality                            CS: 'RTDOSE'\n",
      "(0008, 0070) Manufacturer                        LO: 'RaySearch Laboratories'\n",
      "(0008, 0090) Referring Physician's Name          PN: 'Anonymized'\n",
      "(0008, 1030) Study Description                   LO: 'Anonymized'\n",
      "(0008, 103e) Series Description                  LO: 'Anonymized'\n",
      "(0008, 1070) Operators' Name                     PN: ''\n",
      "(0008, 1090) Manufacturer's Model Name           LO: 'RayStation'\n",
      "(0010, 0010) Patient's Name                      PN: 'Patient_1'\n",
      "(0010, 0020) Patient ID                          LO: '201912_01'\n",
      "(0010, 0030) Patient's Birth Date                DA: '20191212'\n",
      "(0010, 0040) Patient's Sex                       CS: 'O'\n",
      "(0012, 0062) Patient Identity Removed            CS: 'YES'\n",
      "(0012, 0063) De-identification Method            LO: 'RaySearch Dicom IO - 4.1.2.0'\n",
      "(0018, 0050) Slice Thickness                     DS: \"2.0\"\n",
      "(0018, 1020) Software Versions                   LO: '7.0.0.19 (Dicom Export)'\n",
      "(0020, 000d) Study Instance UID                  UI: 1.2.752.243.1.1.20191212115003150.1750.20216\n",
      "(0020, 000e) Series Instance UID                 UI: 1.2.752.243.1.1.20191212115003150.1760.63332\n",
      "(0020, 0010) Study ID                            SH: ''\n",
      "(0020, 0011) Series Number                       IS: \"1\"\n",
      "(0020, 0032) Image Position (Patient)            DS: [-274.6805, -327.6419, -197]\n",
      "(0020, 0037) Image Orientation (Patient)         DS: [1, 0, 0, 0, 1, 0]\n",
      "(0020, 0052) Frame of Reference UID              UI: 1.2.752.243.1.1.20191212115003150.1770.31608\n",
      "(0020, 1040) Position Reference Indicator        LO: ''\n",
      "(0028, 0002) Samples per Pixel                   US: 1\n",
      "(0028, 0004) Photometric Interpretation          CS: 'MONOCHROME2'\n",
      "(0028, 0008) Number of Frames                    IS: \"155\"\n",
      "(0028, 0009) Frame Increment Pointer             AT: (3004, 000c)\n",
      "(0028, 0010) Rows                                US: 136\n",
      "(0028, 0011) Columns                             US: 267\n",
      "(0028, 0030) Pixel Spacing                       DS: [2, 2]\n",
      "(0028, 0100) Bits Allocated                      US: 16\n",
      "(0028, 0101) Bits Stored                         US: 16\n",
      "(0028, 0102) High Bit                            US: 15\n",
      "(0028, 0103) Pixel Representation                US: 0\n",
      "(3004, 0002) Dose Units                          CS: 'GY'\n",
      "(3004, 0004) Dose Type                           CS: 'PHYSICAL'\n",
      "(3004, 000a) Dose Summation Type                 CS: 'EVALUATION'\n",
      "(3004, 000c) Grid Frame Offset Vector            DS: Array of 155 elements\n",
      "(3004, 000e) Dose Grid Scaling                   DS: \"0.0009632423\"\n",
      "(7fe0, 0010) Pixel Data                          OW: Array of 11256720 elements\n"
     ]
    }
   ],
   "source": [
    "import itk\n",
    "import pydicom as dcm\n",
    "import matplotlib.pyplot as plt\n",
    "import numpy as np\n",
    "from itkwidgets import view\n",
    "from skimage import io\n",
    "filename = \"RD1.2.752.243.1.1.20191212115003150.1740.20852.dcm\"\n",
    "ds = dcm.dcmread(filename)\n",
    "print(\"Dicom data:\")\n",
    "print(ds)"
   ]
  },
  {
   "cell_type": "code",
   "execution_count": 2,
   "metadata": {},
   "outputs": [
    {
     "data": {
      "application/vnd.jupyter.widget-view+json": {
       "model_id": "9e55ff2525714a97989a1542813fa1bd",
       "version_major": 2,
       "version_minor": 0
      },
      "text/plain": [
       "Viewer(geometries=[], gradient_opacity=0.22, point_sets=[], rendered_image=<itkImagePython.itkImageUS3; proxy …"
      ]
     },
     "metadata": {},
     "output_type": "display_data"
    }
   ],
   "source": [
    "#use itkwidgets to visualize and play with the user interface\n",
    "view(ds.pixel_array)\n",
    "\n",
    "#Raising gradient opacity makes it easier to see deeper into the brain\n",
    "#However, when gradient opacity is too high, all structure is lost.\n",
    "\n",
    "#X, Y, and Z planes can be inserted and moved. This allows doctors to \n",
    "#analyze the brain layer by layer."
   ]
  },
  {
   "cell_type": "code",
   "execution_count": 3,
   "metadata": {},
   "outputs": [
    {
     "data": {
      "application/vnd.jupyter.widget-view+json": {
       "model_id": "df1bcb265a5d411cadb456257faa5256",
       "version_major": 2,
       "version_minor": 0
      },
      "text/plain": [
       "Viewer(geometries=[], gradient_opacity=0.22, point_sets=[], rendered_image=<itkImagePython.itkImageUS3; proxy …"
      ]
     },
     "metadata": {},
     "output_type": "display_data"
    }
   ],
   "source": [
    "#slicing the pixel_array in half gives an image of the bottom half of the image stack\n",
    "bhalf = ds.pixel_array[:len(ds.pixel_array)//2:]\n",
    "view(bhalf)"
   ]
  },
  {
   "cell_type": "code",
   "execution_count": 4,
   "metadata": {},
   "outputs": [
    {
     "data": {
      "application/vnd.jupyter.widget-view+json": {
       "model_id": "f8a5bc14d10e4ecfa5d03c6ec77987b0",
       "version_major": 2,
       "version_minor": 0
      },
      "text/plain": [
       "Viewer(geometries=[], gradient_opacity=0.22, point_sets=[], rendered_image=<itkImagePython.itkImageUS3; proxy …"
      ]
     },
     "metadata": {},
     "output_type": "display_data"
    }
   ],
   "source": [
    "#Drawing planes in the CT scan can better allow doctors to notice assymetries in a patient's brain\n",
    "#By changing the roi boundaries, a doctor can narrow down the image to important areas of the brain\n",
    "#I would like to figure out how to programmtically set roi boundaries\n",
    "view(ds.pixel_array, slicing_planes=True, select_roi=True)"
   ]
  },
  {
   "cell_type": "code",
   "execution_count": 5,
   "metadata": {},
   "outputs": [
    {
     "name": "stdout",
     "output_type": "stream",
     "text": [
      "Type: <class 'skimage.io.collection.ImageCollection'>\n",
      "Length: 0\n"
     ]
    }
   ],
   "source": [
    "#read all CT slices (2D) using skimage (function io.imagecollection) and visualize\n",
    "slices = io.ImageCollection('../slices/*.png')\n",
    "print('Type:', type(slices))\n",
    "#the ImageCollection length is 0 but I'm not sure why.\n",
    "print('Length:', len(slices))"
   ]
  },
  {
   "cell_type": "code",
   "execution_count": 6,
   "metadata": {},
   "outputs": [
    {
     "name": "stdout",
     "output_type": "stream",
     "text": [
      "Matrix A:\n",
      "[[ 1.  2.  3.  4.  5.]\n",
      " [ 6.  7.  8.  9. 10.]\n",
      " [11. 12. 13. 14. 15.]\n",
      " [16. 17. 18. 19. 20.]]\n",
      "Matrix B:\n",
      "[[ 1.  2.  3.]\n",
      " [ 4.  5.  6.]\n",
      " [ 7.  8.  9.]\n",
      " [10. 11. 12.]\n",
      " [13. 14. 15.]]\n",
      "Matrix product of A and B:\n",
      "[[135. 150. 165.]\n",
      " [310. 350. 390.]\n",
      " [485. 550. 615.]\n",
      " [660. 750. 840.]]\n",
      "Matrix C:\n",
      "[[ 1.  2.  3.  4.]\n",
      " [ 5.  6.  7.  8.]\n",
      " [ 9. 10. 11. 12.]\n",
      " [13. 14. 15. 16.]]\n",
      "Hadardmard product of C and itself:\n",
      "[[  1.   4.   9.  16.]\n",
      " [ 25.  36.  49.  64.]\n",
      " [ 81. 100. 121. 144.]\n",
      " [169. 196. 225. 256.]]\n"
     ]
    }
   ],
   "source": [
    "#perform matrix multiplication and compute Hadarmard product\n",
    "\n",
    "#init_mat initializes an array with r rows and c cols\n",
    "#The first entry has value 1 and each consecutive entry is incremented by 1\n",
    "def init_mat(r, c):\n",
    "    mat = np.empty(shape=(r,c))\n",
    "    for i in range(r):\n",
    "        for k in range(c):\n",
    "            mat[i][k] = i * c + k + 1\n",
    "    return mat\n",
    "\n",
    "#matrix_mat performs matrix multiplication on 2D matrices\n",
    "def matrix_mat(A, B):\n",
    "    if A.shape[1] != B.shape[0]:\n",
    "        raise ValueError(\"Mismatched dimensions\") \n",
    "    dim = A.shape[1] \n",
    "    r = A.shape[0]\n",
    "    c = B.shape[1]\n",
    "    mat = np.empty(shape=(r,c))\n",
    "    for i in range(r):\n",
    "        for k in range(c):\n",
    "            sum = 0\n",
    "            for j in range(dim):\n",
    "                sum += A[i][j] * B[j][k]\n",
    "            mat[i][k] = sum\n",
    "    return mat\n",
    "\n",
    "#hadarmard_product computes the Hadarmard product of two 2D matrices\n",
    "def hadarmard_product(A, B):\n",
    "    if A.shape[0] != B.shape[0] or A.shape[1] != B.shape[1]:\n",
    "        raise ValueError(\"Mismatched dimensions\")\n",
    "    mat = np.empty(shape = A.shape)\n",
    "    for i in range(mat.shape[0]):\n",
    "        for k in range(mat.shape[1]):\n",
    "            mat[i][k] = A[i][k] * B[i][k]\n",
    "    return mat\n",
    "            \n",
    "A = init_mat(4, 5)\n",
    "print(\"Matrix A:\")\n",
    "print(A)\n",
    "B = init_mat(5, 3)\n",
    "print(\"Matrix B:\")\n",
    "print(B)\n",
    "print(\"Matrix product of A and B:\")\n",
    "print(matrix_mat(A,B)) #equivalent to calling A.dot(B)\n",
    "\n",
    "#Hadarmard product can only be computed for 2 matrices with the same dimensions\n",
    "C = init_mat(4, 4)\n",
    "print(\"Matrix C:\")\n",
    "print(C)\n",
    "print(\"Hadardmard product of C and itself:\")\n",
    "print(hadarmard_product(C, C))"
   ]
  },
  {
   "cell_type": "code",
   "execution_count": null,
   "metadata": {},
   "outputs": [],
   "source": []
  }
 ],
 "metadata": {
  "kernelspec": {
   "display_name": "Python 3",
   "language": "python",
   "name": "python3"
  },
  "language_info": {
   "codemirror_mode": {
    "name": "ipython",
    "version": 3
   },
   "file_extension": ".py",
   "mimetype": "text/x-python",
   "name": "python",
   "nbconvert_exporter": "python",
   "pygments_lexer": "ipython3",
   "version": "3.7.3"
  }
 },
 "nbformat": 4,
 "nbformat_minor": 2
}
